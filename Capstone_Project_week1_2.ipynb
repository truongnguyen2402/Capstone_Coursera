{
 "cells": [
  {
   "cell_type": "markdown",
   "metadata": {},
   "source": [
    "# Introduction/Business Problem"
   ]
  },
  {
   "cell_type": "markdown",
   "metadata": {},
   "source": [
    "My client is a global restaurant chain of Asian foods. They would like to expand their business and invest a new chain in Toronto city. Before the investment, they investigate the overview of restaurants in Toronto city, especially the Asian restaurants, and the Asian markets that can supply specific materials for their Asian menu. Also, they want to gain insight about competitors such as which restaurants are highly rated by the customers, which areas have high density of restaurants,... \n",
    "\n",
    "To initiate the investigation, the manager of this restaurant chain asks the data analysts to explore the data from different sources such as Google map, websites for travelling and foods about the distribution of restaurants in Toronto and the segmentation of Asian food chains in the market. "
   ]
  },
  {
   "cell_type": "markdown",
   "metadata": {},
   "source": [
    "# Data Section"
   ]
  },
  {
   "cell_type": "markdown",
   "metadata": {},
   "source": [
    "The Data used for this project is mostly obtained from Foursquare website and from Wikipedia page. The map of Toronto city is illustrated with the highlight of restaurants and Asian markets.\n",
    "Also, the top 10 Asian restaurants for each neighborhood in Toronto city will be displayed and visualized. \n",
    "Then, the neighborhoods will be clustered to find out where should be the good place to open an Asian restaurant."
   ]
  },
  {
   "cell_type": "code",
   "execution_count": null,
   "metadata": {},
   "outputs": [],
   "source": []
  }
 ],
 "metadata": {
  "kernelspec": {
   "display_name": "Python 3",
   "language": "python",
   "name": "python3"
  },
  "language_info": {
   "codemirror_mode": {
    "name": "ipython",
    "version": 3
   },
   "file_extension": ".py",
   "mimetype": "text/x-python",
   "name": "python",
   "nbconvert_exporter": "python",
   "pygments_lexer": "ipython3",
   "version": "3.8.5"
  }
 },
 "nbformat": 4,
 "nbformat_minor": 4
}
