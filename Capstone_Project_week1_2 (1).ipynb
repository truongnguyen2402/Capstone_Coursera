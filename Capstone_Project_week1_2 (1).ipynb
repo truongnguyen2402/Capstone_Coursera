{
 "cells": [
  {
   "cell_type": "markdown",
   "metadata": {},
   "source": [
    "# Introduction/Business Problem"
   ]
  },
  {
   "cell_type": "markdown",
   "metadata": {},
   "source": [
    "My client is a global restaurant chain of Asian foods. They would like to expand their business and invest a new chain in Dublin, Ireland. Before the investment, they investigate the overview of restaurants in Dublin, especially the Asian restaurants, and the Asian markets that can supply specific materials for their Asian menu. Also, they want to gain insight about competitors such as which Asian restaurants are highly recommended by the customers and which areas have a high density of restaurants.\n",
    "\n",
    "In this project, we will try to find out an ideal location for their restaurant. Since there are many restaurants in Dublin, we will prioritize the locations that are not packed with restaurants. Besides, we are also particularly interested in areas with a few Asian restaurants. Also, we prefer the locations that are close to any Asian markets, assuming the first two conditions are met.\n",
    "\n",
    "We will apply the data science to provide them insight about a few most promising neighborhoods that are suitable to their criteria. The areas with more advantages will be suggested for them so that the best location can be chosen."
   ]
  },
  {
   "cell_type": "markdown",
   "metadata": {},
   "source": [
    "# Data Section"
   ]
  },
  {
   "cell_type": "markdown",
   "metadata": {},
   "source": [
    "With the criteria above, the task jobs can be allocated to reach the final decision:\n",
    "- Investigating the existing restaurants in the neighborhood\n",
    "- Investigating the existing Asian restaurants in the neighborhood and the distances between them.\n",
    "- Investigating the Asian markets in the neighborhood\n",
    "\n",
    "The data sources will be needed to extract and obtain the required information:\n",
    "- The map and approximate addresses of Dublin will be built up using Google Maps API reverse geocoding.\n",
    "- The number of restaurants, their type, rating and location in every neighborhood will be provided by Foursquare API.\n",
    "- The number of Asian markets will be also obtained by Foursquare API.\n"
   ]
  },
  {
   "cell_type": "code",
   "execution_count": null,
   "metadata": {},
   "outputs": [],
   "source": []
  }
 ],
 "metadata": {
  "kernelspec": {
   "display_name": "Python 3",
   "language": "python",
   "name": "python3"
  },
  "language_info": {
   "codemirror_mode": {
    "name": "ipython",
    "version": 3
   },
   "file_extension": ".py",
   "mimetype": "text/x-python",
   "name": "python",
   "nbconvert_exporter": "python",
   "pygments_lexer": "ipython3",
   "version": "3.8.5"
  }
 },
 "nbformat": 4,
 "nbformat_minor": 4
}
